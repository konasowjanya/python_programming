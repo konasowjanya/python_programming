{
 "cells": [
  {
   "cell_type": "markdown",
   "id": "1b2901ca-3128-4fb4-a812-bc3c17fe6efa",
   "metadata": {},
   "source": [
    "# SET"
   ]
  },
  {
   "cell_type": "code",
   "execution_count": 13,
   "id": "d1590e80-1e39-4e51-9552-9ab96bf692e3",
   "metadata": {},
   "outputs": [],
   "source": [
    "s = {}"
   ]
  },
  {
   "cell_type": "code",
   "execution_count": 14,
   "id": "4347a12f-cc85-44f5-9975-eb684ee6762f",
   "metadata": {},
   "outputs": [
    {
     "data": {
      "text/plain": [
       "{}"
      ]
     },
     "execution_count": 14,
     "metadata": {},
     "output_type": "execute_result"
    }
   ],
   "source": [
    "s"
   ]
  },
  {
   "cell_type": "code",
   "execution_count": 15,
   "id": "2a832fe1-275b-4643-8657-62925217945c",
   "metadata": {},
   "outputs": [
    {
     "data": {
      "text/plain": [
       "dict"
      ]
     },
     "execution_count": 15,
     "metadata": {},
     "output_type": "execute_result"
    }
   ],
   "source": [
    "s\n",
    "type(s)"
   ]
  },
  {
   "cell_type": "code",
   "execution_count": 16,
   "id": "baa7a8b0-6a43-4767-b74f-449d32d1a46f",
   "metadata": {},
   "outputs": [
    {
     "name": "stdout",
     "output_type": "stream",
     "text": [
      "set()\n",
      "<class 'set'>\n"
     ]
    }
   ],
   "source": [
    "s = set()\n",
    "print(s)\n",
    "print(type(s))"
   ]
  },
  {
   "cell_type": "code",
   "execution_count": 17,
   "id": "82b9386e-8d0d-4207-a42e-0914c51b8663",
   "metadata": {},
   "outputs": [
    {
     "data": {
      "text/plain": [
       "{1, 2, 4}"
      ]
     },
     "execution_count": 17,
     "metadata": {},
     "output_type": "execute_result"
    }
   ],
   "source": [
    "s2 = {1,2,4}\n",
    "s2"
   ]
  },
  {
   "cell_type": "code",
   "execution_count": 18,
   "id": "d67a1b0b-f7ae-4681-a787-5c3117fb127b",
   "metadata": {},
   "outputs": [],
   "source": [
    "s3 = {1,4,\"Sowji\",1+5j,4.0} # Set will not allow duplicate values even though type is different like int and float with same value 4"
   ]
  },
  {
   "cell_type": "code",
   "execution_count": 19,
   "id": "f7844953-6731-4997-b68c-95c147acac54",
   "metadata": {},
   "outputs": [
    {
     "data": {
      "text/plain": [
       "{(1+5j), 1, 4, 'Sowji'}"
      ]
     },
     "execution_count": 19,
     "metadata": {},
     "output_type": "execute_result"
    }
   ],
   "source": [
    "s3"
   ]
  },
  {
   "cell_type": "code",
   "execution_count": 20,
   "id": "b5e9a72f-d9f5-4823-ab42-0c9c2e72e8e6",
   "metadata": {},
   "outputs": [
    {
     "ename": "NameError",
     "evalue": "name 's1' is not defined",
     "output_type": "error",
     "traceback": [
      "\u001b[1;31m---------------------------------------------------------------------------\u001b[0m",
      "\u001b[1;31mNameError\u001b[0m                                 Traceback (most recent call last)",
      "Cell \u001b[1;32mIn[20], line 1\u001b[0m\n\u001b[1;32m----> 1\u001b[0m \u001b[38;5;28mprint\u001b[39m(s1)\n\u001b[0;32m      2\u001b[0m \u001b[38;5;28mprint\u001b[39m(s2)\n\u001b[0;32m      3\u001b[0m \u001b[38;5;28mprint\u001b[39m(s3)\n",
      "\u001b[1;31mNameError\u001b[0m: name 's1' is not defined"
     ]
    }
   ],
   "source": [
    "print(s1)\n",
    "print(s2)\n",
    "print(s3)"
   ]
  },
  {
   "cell_type": "code",
   "execution_count": null,
   "id": "deef4c7d-a29a-4dd4-9ca6-40de60eb9930",
   "metadata": {},
   "outputs": [],
   "source": [
    "s1 = s3\n",
    "print(id(s1))\n",
    "print(id(s3))\n",
    "print(s1 == s3)"
   ]
  },
  {
   "cell_type": "code",
   "execution_count": null,
   "id": "4765de3b-a4c0-4d05-9a70-f879df807b9d",
   "metadata": {},
   "outputs": [],
   "source": [
    "s3.add(5.5)"
   ]
  },
  {
   "cell_type": "code",
   "execution_count": null,
   "id": "c3c12cb8-c59e-4cd6-b73b-aae374a0704c",
   "metadata": {},
   "outputs": [],
   "source": [
    "s1"
   ]
  },
  {
   "cell_type": "code",
   "execution_count": null,
   "id": "8eafda0d-f140-42e4-b2ba-f3988513d609",
   "metadata": {},
   "outputs": [],
   "source": [
    "s3"
   ]
  },
  {
   "cell_type": "code",
   "execution_count": null,
   "id": "f5ee4a56-741c-4737-867d-414fc7e2e6cd",
   "metadata": {},
   "outputs": [],
   "source": [
    "s4 = {1, 2.3, 'nit', 1+2j, [1,2,3], (4,5,6), True} # Set will not allow nested list or tuples. Whereas we can have set,tuple,dic inside a tuple or list\n",
    "s4"
   ]
  },
  {
   "cell_type": "code",
   "execution_count": null,
   "id": "78e1981a-7775-48ef-bea6-7d86f335bd7f",
   "metadata": {},
   "outputs": [],
   "source": [
    "s3"
   ]
  },
  {
   "cell_type": "code",
   "execution_count": null,
   "id": "05c7befb-70e8-45ed-82de-dd1a712d1470",
   "metadata": {},
   "outputs": [],
   "source": [
    "s3.clear() # clears all the elemtns in the data"
   ]
  },
  {
   "cell_type": "code",
   "execution_count": null,
   "id": "551c4955-51d0-46bd-a450-f20be6f02b96",
   "metadata": {},
   "outputs": [],
   "source": [
    "s3"
   ]
  },
  {
   "cell_type": "code",
   "execution_count": null,
   "id": "52de447f-448a-4ac9-bae1-167041aa57c4",
   "metadata": {},
   "outputs": [],
   "source": [
    "del s3 # deleted entire variable"
   ]
  },
  {
   "cell_type": "code",
   "execution_count": null,
   "id": "123ea052-38e0-4690-996c-3090ef5bc46a",
   "metadata": {},
   "outputs": [],
   "source": [
    "s3"
   ]
  },
  {
   "cell_type": "code",
   "execution_count": null,
   "id": "519bec7f-3ed3-4ac2-8ec0-46559beaece3",
   "metadata": {},
   "outputs": [],
   "source": [
    "s2"
   ]
  },
  {
   "cell_type": "code",
   "execution_count": null,
   "id": "68294a1c-8957-4cda-834f-729bb096b3c7",
   "metadata": {},
   "outputs": [],
   "source": [
    "s2.remove(4) # removes particular element"
   ]
  },
  {
   "cell_type": "code",
   "execution_count": null,
   "id": "5cfbd68b-1614-402c-8d71-f8a995be93c6",
   "metadata": {},
   "outputs": [],
   "source": [
    "s2"
   ]
  },
  {
   "cell_type": "code",
   "execution_count": null,
   "id": "2f4863e8-104f-41ed-9053-292b6b04d26f",
   "metadata": {},
   "outputs": [],
   "source": [
    "s2.add(5)"
   ]
  },
  {
   "cell_type": "code",
   "execution_count": null,
   "id": "98a18a41-772c-4c8c-8fe7-ebbd912717a8",
   "metadata": {},
   "outputs": [],
   "source": [
    "s2"
   ]
  },
  {
   "cell_type": "code",
   "execution_count": null,
   "id": "508b27ba-b234-4feb-b8c7-65c4b4a6feae",
   "metadata": {},
   "outputs": [],
   "source": [
    "s2.add(3)"
   ]
  },
  {
   "cell_type": "code",
   "execution_count": null,
   "id": "20600728-e8d3-4213-84ae-d3b812b84b86",
   "metadata": {},
   "outputs": [],
   "source": [
    "s2"
   ]
  },
  {
   "cell_type": "code",
   "execution_count": null,
   "id": "68373670-0ed1-42a7-91e9-32e56be37c78",
   "metadata": {},
   "outputs": [],
   "source": [
    "s2.discard(6) # discard function will remove element if it is present otherwise no error"
   ]
  },
  {
   "cell_type": "code",
   "execution_count": null,
   "id": "bd34ed48-e56a-4d07-b235-5004e4f0326d",
   "metadata": {},
   "outputs": [],
   "source": [
    "s2.remove(6) #if element was not present it will throw error"
   ]
  },
  {
   "cell_type": "code",
   "execution_count": null,
   "id": "483ef4e5-11ce-40e9-ad27-575993f7ec3c",
   "metadata": {},
   "outputs": [],
   "source": [
    "s2.discard(1)"
   ]
  },
  {
   "cell_type": "code",
   "execution_count": null,
   "id": "e58d0c52-8bdb-4550-b54a-e5dd5424ce5b",
   "metadata": {},
   "outputs": [],
   "source": [
    "s2.add(6)"
   ]
  },
  {
   "cell_type": "code",
   "execution_count": null,
   "id": "f79f6ff9-21cd-4c55-9d47-b9f3a96d3a35",
   "metadata": {},
   "outputs": [],
   "source": [
    "s2"
   ]
  },
  {
   "cell_type": "code",
   "execution_count": null,
   "id": "b550760b-2ff8-4eab-8d5d-a00b9eb90617",
   "metadata": {},
   "outputs": [],
   "source": [
    "s2.pop()"
   ]
  },
  {
   "cell_type": "code",
   "execution_count": null,
   "id": "7c5b075b-0e2b-478a-b94b-33b9d5db4eb2",
   "metadata": {},
   "outputs": [],
   "source": [
    "s2.pop()"
   ]
  },
  {
   "cell_type": "code",
   "execution_count": null,
   "id": "437d8424-338a-4eb7-85e9-639eebf28a32",
   "metadata": {},
   "outputs": [],
   "source": [
    "s2.add(4.5)"
   ]
  },
  {
   "cell_type": "code",
   "execution_count": null,
   "id": "0072d7f0-8fe7-4b87-9253-714339352193",
   "metadata": {},
   "outputs": [],
   "source": [
    "for i in s2:\n",
    "    print(i)"
   ]
  },
  {
   "cell_type": "code",
   "execution_count": null,
   "id": "7e94e35d-1b8a-4e95-b517-e05d29769cfa",
   "metadata": {},
   "outputs": [],
   "source": [
    "for i in s2:\n",
    "    print(i)"
   ]
  },
  {
   "cell_type": "code",
   "execution_count": null,
   "id": "d64dbbe9-5956-4850-b7a6-1226b03faf52",
   "metadata": {},
   "outputs": [],
   "source": [
    "s2"
   ]
  },
  {
   "cell_type": "code",
   "execution_count": null,
   "id": "72c0f4e3-9392-4f06-987b-5621105978a4",
   "metadata": {},
   "outputs": [],
   "source": [
    "for i in enumerate(s2):\n",
    "    print(i)\n"
   ]
  },
  {
   "cell_type": "code",
   "execution_count": null,
   "id": "35b6f8bb-24f5-47ee-b94e-21f0c2bd5b12",
   "metadata": {},
   "outputs": [],
   "source": [
    "\"Sowji\" in s2"
   ]
  },
  {
   "cell_type": "code",
   "execution_count": null,
   "id": "d0c74958-c272-4371-a615-cde09422b756",
   "metadata": {},
   "outputs": [],
   "source": [
    "s2"
   ]
  },
  {
   "cell_type": "code",
   "execution_count": null,
   "id": "eba058df-7896-45ce-88e4-e37d0c5bd472",
   "metadata": {},
   "outputs": [],
   "source": [
    "s1"
   ]
  },
  {
   "cell_type": "code",
   "execution_count": null,
   "id": "25d3e539-a619-4e7e-82c4-ad7b9f16ee8e",
   "metadata": {},
   "outputs": [],
   "source": [
    "s1.update(s2) # all elements in s2 will be copied to s1"
   ]
  },
  {
   "cell_type": "code",
   "execution_count": null,
   "id": "22d75b3f-f62b-43d0-86e6-ace1a18895ef",
   "metadata": {},
   "outputs": [],
   "source": [
    "s1"
   ]
  },
  {
   "cell_type": "code",
   "execution_count": null,
   "id": "c6cadf48-06f7-4f80-80e1-4e7d26b8f12b",
   "metadata": {},
   "outputs": [],
   "source": [
    "s2"
   ]
  },
  {
   "cell_type": "markdown",
   "id": "6338b145-9089-4bba-9ef7-b529c1b251da",
   "metadata": {},
   "source": [
    "# SET Operations\n",
    "\n",
    "* Union |\n",
    "* Intersection &\n",
    "* Difference -\n",
    "* Symmetric Difference "
   ]
  },
  {
   "cell_type": "code",
   "execution_count": 22,
   "id": "06056171-c6a7-4f5d-b86c-d18657dc0bf2",
   "metadata": {},
   "outputs": [],
   "source": [
    "s6 = {1,2,3,4,5}\n",
    "s7 = {4,5,6,7,8}\n",
    "s8 = {8,9,10}"
   ]
  },
  {
   "cell_type": "code",
   "execution_count": null,
   "id": "d1c66eea-df1a-4597-ac0f-4d7ade607c8e",
   "metadata": {},
   "outputs": [],
   "source": [
    "s6.union(s7)"
   ]
  },
  {
   "cell_type": "code",
   "execution_count": null,
   "id": "c27b58e7-366a-47cb-93dc-3678589f923e",
   "metadata": {},
   "outputs": [],
   "source": [
    "s6.union(s7,s8)"
   ]
  },
  {
   "cell_type": "code",
   "execution_count": null,
   "id": "70e81845-2784-4a64-90be-94d35fb053fb",
   "metadata": {},
   "outputs": [],
   "source": [
    "s6 | s7"
   ]
  },
  {
   "cell_type": "code",
   "execution_count": null,
   "id": "68935554-37b4-493e-b76a-659c34b4b320",
   "metadata": {},
   "outputs": [],
   "source": [
    "s6 | s7 | s8"
   ]
  },
  {
   "cell_type": "code",
   "execution_count": null,
   "id": "ccc06a44-2801-40bc-ac62-6aea66f316ae",
   "metadata": {},
   "outputs": [],
   "source": [
    "s6 & s7"
   ]
  },
  {
   "cell_type": "code",
   "execution_count": null,
   "id": "2ce771b4-ea3b-4019-af21-2220b1f18478",
   "metadata": {},
   "outputs": [],
   "source": [
    "s6.intersection(s7)"
   ]
  },
  {
   "cell_type": "code",
   "execution_count": null,
   "id": "60ee7fdf-2cec-40af-851d-a7631656d687",
   "metadata": {},
   "outputs": [],
   "source": [
    "s7.intersection(s8)"
   ]
  },
  {
   "cell_type": "code",
   "execution_count": null,
   "id": "d26bd22c-cf62-40c2-be15-2f50351a5e7e",
   "metadata": {},
   "outputs": [],
   "source": [
    "print(s6)\n",
    "print(s7)\n",
    "print(s8)"
   ]
  },
  {
   "cell_type": "code",
   "execution_count": null,
   "id": "d7e75360-6127-43a4-be29-9b358c1c00bf",
   "metadata": {},
   "outputs": [],
   "source": [
    "s6.difference(s7)"
   ]
  },
  {
   "cell_type": "code",
   "execution_count": null,
   "id": "400b70f7-00c6-4fc0-8464-8f38264aacc3",
   "metadata": {},
   "outputs": [],
   "source": [
    "s6 - s7"
   ]
  },
  {
   "cell_type": "code",
   "execution_count": null,
   "id": "b648ddc4-1df9-4492-95bb-39a276088ef9",
   "metadata": {},
   "outputs": [],
   "source": [
    "s7 - s8"
   ]
  },
  {
   "cell_type": "code",
   "execution_count": null,
   "id": "00de9282-d565-4427-8361-a7fdc18ffb9f",
   "metadata": {},
   "outputs": [],
   "source": [
    "print(s6)\n",
    "print(s7)\n",
    "print(s8)"
   ]
  },
  {
   "cell_type": "code",
   "execution_count": null,
   "id": "306b577f-ae67-48e7-8f27-835dffc2b7ae",
   "metadata": {},
   "outputs": [],
   "source": [
    "s6.symmetric_difference(s7)"
   ]
  },
  {
   "cell_type": "code",
   "execution_count": null,
   "id": "8b409e7e-7e76-4572-91e7-3599d9b90ffd",
   "metadata": {},
   "outputs": [],
   "source": [
    "s = [1,2,3]\n",
    "type(s)"
   ]
  },
  {
   "cell_type": "markdown",
   "id": "928f7e95-0b9a-47c9-874e-5f2e53186cac",
   "metadata": {},
   "source": [
    "# Set \n",
    " * Superset\n",
    " * Subset\n",
    " * disjoint"
   ]
  },
  {
   "cell_type": "code",
   "execution_count": 23,
   "id": "b072ca11-4621-481e-a1ad-4b97918799de",
   "metadata": {},
   "outputs": [
    {
     "name": "stdout",
     "output_type": "stream",
     "text": [
      "{1, 2, 3, 4, 5}\n",
      "{4, 5, 6, 7, 8}\n",
      "{8, 9, 10}\n"
     ]
    }
   ],
   "source": [
    "print(s6)\n",
    "print(s7)\n",
    "print(s8)"
   ]
  },
  {
   "cell_type": "code",
   "execution_count": 26,
   "id": "6837f28f-7f5a-4b94-b932-87c3fab1308a",
   "metadata": {},
   "outputs": [],
   "source": [
    " s9 = {8,9,10,11,15}"
   ]
  },
  {
   "cell_type": "code",
   "execution_count": 27,
   "id": "f113cf8c-aef2-432e-a09c-1eaab2d6bd04",
   "metadata": {},
   "outputs": [
    {
     "data": {
      "text/plain": [
       "True"
      ]
     },
     "execution_count": 27,
     "metadata": {},
     "output_type": "execute_result"
    }
   ],
   "source": [
    "s8.issubset(s9)"
   ]
  },
  {
   "cell_type": "code",
   "execution_count": 28,
   "id": "b43a7962-8e62-4e10-aff4-df8048cd4b24",
   "metadata": {},
   "outputs": [
    {
     "data": {
      "text/plain": [
       "True"
      ]
     },
     "execution_count": 28,
     "metadata": {},
     "output_type": "execute_result"
    }
   ],
   "source": [
    "s9.issuperset(s8)"
   ]
  },
  {
   "cell_type": "code",
   "execution_count": 29,
   "id": "1a8a87ff-d1c1-410d-a1fb-4d6a22fc27bf",
   "metadata": {},
   "outputs": [
    {
     "data": {
      "text/plain": [
       "False"
      ]
     },
     "execution_count": 29,
     "metadata": {},
     "output_type": "execute_result"
    }
   ],
   "source": [
    "s6.isdisjoint(s7)"
   ]
  },
  {
   "cell_type": "code",
   "execution_count": 30,
   "id": "34c672c2-3ba9-4817-9917-ae00de71a4dc",
   "metadata": {},
   "outputs": [
    {
     "name": "stdout",
     "output_type": "stream",
     "text": [
      "4\n",
      "5\n",
      "6\n",
      "7\n",
      "8\n"
     ]
    }
   ],
   "source": [
    "for i in s7:\n",
    "    print(i)"
   ]
  },
  {
   "cell_type": "code",
   "execution_count": 32,
   "id": "d3fd52ab-6c92-4da9-8da3-849997de06a0",
   "metadata": {},
   "outputs": [
    {
     "name": "stdout",
     "output_type": "stream",
     "text": [
      "(0, 4)\n",
      "(1, 5)\n",
      "(2, 6)\n",
      "(3, 7)\n",
      "(4, 8)\n"
     ]
    }
   ],
   "source": [
    "for i in enumerate(s7):\n",
    "    print(i)"
   ]
  },
  {
   "cell_type": "code",
   "execution_count": 33,
   "id": "b8d2ae09-22a7-41d3-8d96-d846c4620fcb",
   "metadata": {},
   "outputs": [
    {
     "data": {
      "text/plain": [
       "30"
      ]
     },
     "execution_count": 33,
     "metadata": {},
     "output_type": "execute_result"
    }
   ],
   "source": [
    "sum(s7)"
   ]
  },
  {
   "cell_type": "code",
   "execution_count": 34,
   "id": "1b863e73-1478-4ec6-9057-095b2c1afa4b",
   "metadata": {},
   "outputs": [
    {
     "data": {
      "text/plain": [
       "4"
      ]
     },
     "execution_count": 34,
     "metadata": {},
     "output_type": "execute_result"
    }
   ],
   "source": [
    "min(s7)"
   ]
  },
  {
   "cell_type": "code",
   "execution_count": 35,
   "id": "cde1235c-5203-4104-923b-ecd986212c82",
   "metadata": {},
   "outputs": [
    {
     "data": {
      "text/plain": [
       "8"
      ]
     },
     "execution_count": 35,
     "metadata": {},
     "output_type": "execute_result"
    }
   ],
   "source": [
    "max(s7)"
   ]
  },
  {
   "cell_type": "code",
   "execution_count": 36,
   "id": "47717d19-0d10-45a1-8b93-7efa34698b97",
   "metadata": {},
   "outputs": [
    {
     "data": {
      "text/plain": [
       "5"
      ]
     },
     "execution_count": 36,
     "metadata": {},
     "output_type": "execute_result"
    }
   ],
   "source": [
    "len(s7)"
   ]
  },
  {
   "cell_type": "markdown",
   "id": "9c7f000f-1731-40b9-b98d-152256a9fd5d",
   "metadata": {},
   "source": [
    "# Dictionary Data Strctures\n",
    "* It is defined within curly braces with key value pairs. A python dictionary is a collection of key and value pairs separated by a colon (:) & enclosed\n",
    "in curly braces {}.\n",
    "Dictionary is a mutable data type in Python.\n",
    "A python dictionary is a collection of key and value pairs separated by a colon (:) & enclosed\n",
    "in curly braces {}.\n",
    "Keys must be unique in a dictionary, duplicate values are allowed."
   ]
  },
  {
   "cell_type": "code",
   "execution_count": 2,
   "id": "2c80829a-bfd2-47f7-bc38-402a09c50b90",
   "metadata": {},
   "outputs": [
    {
     "data": {
      "text/plain": [
       "{}"
      ]
     },
     "execution_count": 2,
     "metadata": {},
     "output_type": "execute_result"
    }
   ],
   "source": [
    "my_dict = {} # empty dictionary\n",
    "my_dict"
   ]
  },
  {
   "cell_type": "code",
   "execution_count": 3,
   "id": "4bc06130-453e-4636-9ae6-6947717eaf9b",
   "metadata": {},
   "outputs": [
    {
     "name": "stdout",
     "output_type": "stream",
     "text": [
      "<class 'dict'>\n"
     ]
    }
   ],
   "source": [
    "print(type(my_dict))"
   ]
  },
  {
   "cell_type": "code",
   "execution_count": 4,
   "id": "abf88a02-4ab9-4c3e-95b9-efa206033beb",
   "metadata": {},
   "outputs": [
    {
     "data": {
      "text/plain": [
       "{1: 'one', 2: 'two', 3: 'three'}"
      ]
     },
     "execution_count": 4,
     "metadata": {},
     "output_type": "execute_result"
    }
   ],
   "source": [
    "mydict = {1:'one' , 2:'two' , 3:'three'} # dictionary with integer keys\n",
    "mydict\n"
   ]
  },
  {
   "cell_type": "code",
   "execution_count": 7,
   "id": "9df6e655-426b-463b-8ff9-2c5d7430b60e",
   "metadata": {},
   "outputs": [
    {
     "data": {
      "text/plain": [
       "{1: 'one', 2: 'two', 3: 'three'}"
      ]
     },
     "execution_count": 7,
     "metadata": {},
     "output_type": "execute_result"
    }
   ],
   "source": [
    "mydict = dict({1:'one' , 2:'two' , 3:'three'}) # Create dictionary using dict()\n",
    "mydict"
   ]
  },
  {
   "cell_type": "code",
   "execution_count": 8,
   "id": "3d4db8d9-5976-4d70-a238-3381b3f7ab5b",
   "metadata": {},
   "outputs": [
    {
     "data": {
      "text/plain": [
       "{'A': 'one', 'B': 'two', 'C': 'three'}"
      ]
     },
     "execution_count": 8,
     "metadata": {},
     "output_type": "execute_result"
    }
   ],
   "source": [
    "mydict = {'A':'one' , 'B':'two' , 'C':'three'} # dictionary with character keys\n",
    "mydict"
   ]
  },
  {
   "cell_type": "code",
   "execution_count": 9,
   "id": "c2e6e49c-cef7-4580-9002-8e569263de38",
   "metadata": {},
   "outputs": [
    {
     "data": {
      "text/plain": [
       "{1: 'one', 'A': 'two', 3: 'three'}"
      ]
     },
     "execution_count": 9,
     "metadata": {},
     "output_type": "execute_result"
    }
   ],
   "source": [
    "mydict = {1:'one' , 'A':'two' , 3:'three'} # dictionary with mixed keys\n",
    "mydict"
   ]
  },
  {
   "cell_type": "code",
   "execution_count": 10,
   "id": "6c3883b9-9376-44c1-a026-ad9be4ad89db",
   "metadata": {},
   "outputs": [
    {
     "data": {
      "text/plain": [
       "dict_keys([1, 'A', 3])"
      ]
     },
     "execution_count": 10,
     "metadata": {},
     "output_type": "execute_result"
    }
   ],
   "source": [
    "mydict.keys() # Return Dictionary Keys using keys() method"
   ]
  },
  {
   "cell_type": "code",
   "execution_count": 11,
   "id": "c9006a90-cc61-415a-a250-b5c8aa820912",
   "metadata": {},
   "outputs": [
    {
     "data": {
      "text/plain": [
       "dict_values(['one', 'two', 'three'])"
      ]
     },
     "execution_count": 11,
     "metadata": {},
     "output_type": "execute_result"
    }
   ],
   "source": [
    "mydict.values() # Return Dictionary Values using values() method"
   ]
  },
  {
   "cell_type": "code",
   "execution_count": 12,
   "id": "8bcb0196-b70a-4fa9-850a-19f7b763690c",
   "metadata": {},
   "outputs": [
    {
     "data": {
      "text/plain": [
       "dict_items([(1, 'one'), ('A', 'two'), (3, 'three')])"
      ]
     },
     "execution_count": 12,
     "metadata": {},
     "output_type": "execute_result"
    }
   ],
   "source": [
    "mydict.items() # Access each key-value pair within a dictionary"
   ]
  },
  {
   "cell_type": "code",
   "execution_count": 13,
   "id": "927eb8f2-9e61-46b9-b178-540be1fd8962",
   "metadata": {},
   "outputs": [
    {
     "data": {
      "text/plain": [
       "{1: 'one', 2: 'two', 'A': ['asif', 'john', 'Maria']}"
      ]
     },
     "execution_count": 13,
     "metadata": {},
     "output_type": "execute_result"
    }
   ],
   "source": [
    "mydict = {1:'one' , 2:'two' , 'A':['asif' , 'john' , 'Maria']} # dictionary with list as value\n",
    "mydict"
   ]
  },
  {
   "cell_type": "code",
   "execution_count": 16,
   "id": "8fbdbf41-a510-481a-a1be-4cd35772f976",
   "metadata": {},
   "outputs": [
    {
     "data": {
      "text/plain": [
       "{1: 'one', 2: 'two', 'A': ['asif', 'john', 'Maria'], 'B': ('Bat', 'ca')}"
      ]
     },
     "execution_count": 16,
     "metadata": {},
     "output_type": "execute_result"
    }
   ],
   "source": [
    "mydict = {1:'one' , 2:'two' , 'A':['asif' , 'john' , 'Maria'], 'B':('Bat' , 'ca')}\n",
    "mydict"
   ]
  },
  {
   "cell_type": "code",
   "execution_count": 17,
   "id": "2e119431-3133-4c78-b2c7-2636bcb8a09f",
   "metadata": {},
   "outputs": [
    {
     "data": {
      "text/plain": [
       "{'d': None, 'a': None, 'b': None, 'c': None}"
      ]
     },
     "execution_count": 17,
     "metadata": {},
     "output_type": "execute_result"
    }
   ],
   "source": [
    "keys = {'a' , 'b' , 'c' , 'd'}\n",
    "mydict3 = dict.fromkeys(keys) # Create a dictionary from a sequence of keys\n",
    "mydict3"
   ]
  },
  {
   "cell_type": "code",
   "execution_count": 18,
   "id": "b170b898-21ed-4e0c-8aca-f3ba812c7a95",
   "metadata": {},
   "outputs": [
    {
     "data": {
      "text/plain": [
       "{'d': 10, 'a': 10, 'b': 10, 'c': 10}"
      ]
     },
     "execution_count": 18,
     "metadata": {},
     "output_type": "execute_result"
    }
   ],
   "source": [
    "keys = {'a' , 'b' , 'c' , 'd'}\n",
    "value = 10\n",
    "mydict3 = dict.fromkeys(keys , value) # Create a dictionary from a sequence of\n",
    "mydict3"
   ]
  },
  {
   "cell_type": "code",
   "execution_count": 19,
   "id": "0240ea14-c522-41f8-a74c-ee7228ece1aa",
   "metadata": {},
   "outputs": [
    {
     "data": {
      "text/plain": [
       "{'d': [10, 20, 30], 'a': [10, 20, 30], 'b': [10, 20, 30], 'c': [10, 20, 30]}"
      ]
     },
     "execution_count": 19,
     "metadata": {},
     "output_type": "execute_result"
    }
   ],
   "source": [
    "keys = {'a' , 'b' , 'c' , 'd'}\n",
    "value = [10,20,30]\n",
    "mydict3 = dict.fromkeys(keys , value) # Create a dictionary from a sequence of\n",
    "mydict3"
   ]
  },
  {
   "cell_type": "code",
   "execution_count": 20,
   "id": "d52e5f38-be0e-40dc-af07-c65b3fbf0872",
   "metadata": {},
   "outputs": [
    {
     "data": {
      "text/plain": [
       "{'d': [10, 20, 30, 40],\n",
       " 'a': [10, 20, 30, 40],\n",
       " 'b': [10, 20, 30, 40],\n",
       " 'c': [10, 20, 30, 40]}"
      ]
     },
     "execution_count": 20,
     "metadata": {},
     "output_type": "execute_result"
    }
   ],
   "source": [
    "value.append(40)\n",
    "mydict3"
   ]
  },
  {
   "cell_type": "code",
   "execution_count": 21,
   "id": "6c005c94-11fd-4e10-ab4b-6c851f7d0e12",
   "metadata": {},
   "outputs": [
    {
     "data": {
      "text/plain": [
       "{1: 'one', 2: 'two', 3: 'three', 4: 'four'}"
      ]
     },
     "execution_count": 21,
     "metadata": {},
     "output_type": "execute_result"
    }
   ],
   "source": [
    "mydict = {1:'one' , 2:'two' , 3:'three' , 4:'four'}\n",
    "mydict"
   ]
  },
  {
   "cell_type": "code",
   "execution_count": 22,
   "id": "8ee626ed-643e-4e79-b3fc-4797e37f65b3",
   "metadata": {},
   "outputs": [
    {
     "data": {
      "text/plain": [
       "'one'"
      ]
     },
     "execution_count": 22,
     "metadata": {},
     "output_type": "execute_result"
    }
   ],
   "source": [
    "mydict[1] # Access item using key"
   ]
  },
  {
   "cell_type": "code",
   "execution_count": 23,
   "id": "53775311-fc17-46ef-9672-825fa7efbb8a",
   "metadata": {},
   "outputs": [
    {
     "data": {
      "text/plain": [
       "'one'"
      ]
     },
     "execution_count": 23,
     "metadata": {},
     "output_type": "execute_result"
    }
   ],
   "source": [
    "mydict.get(1) # Access item using get() method"
   ]
  },
  {
   "cell_type": "markdown",
   "id": "fca3b462-edcf-4ff2-9389-c0396c3f3c66",
   "metadata": {},
   "source": [
    "# Add, Remove & Change Items\n"
   ]
  },
  {
   "cell_type": "code",
   "execution_count": 24,
   "id": "ca17efea-9e09-419a-853d-50bbd35fee01",
   "metadata": {},
   "outputs": [
    {
     "data": {
      "text/plain": [
       "{'Name': 'Asif', 'ID': 12345, 'DOB': 1991, 'Address': 'Hilsinki'}"
      ]
     },
     "execution_count": 24,
     "metadata": {},
     "output_type": "execute_result"
    }
   ],
   "source": [
    "mydict1 = {'Name':'Asif' , 'ID': 12345 , 'DOB': 1991 , 'Address' : 'Hilsinki'}\n",
    "mydict1\n"
   ]
  },
  {
   "cell_type": "code",
   "execution_count": 25,
   "id": "a09eb216-ebe8-48ba-ab2b-3df483aa69c2",
   "metadata": {},
   "outputs": [
    {
     "data": {
      "text/plain": [
       "{'Name': 'Asif', 'ID': 12345, 'DOB': 1992, 'Address': 'Delhi'}"
      ]
     },
     "execution_count": 25,
     "metadata": {},
     "output_type": "execute_result"
    }
   ],
   "source": [
    "mydict1['DOB'] = 1992 # Changing Dictionary Items\n",
    "mydict1['Address'] = 'Delhi'\n",
    "mydict1"
   ]
  },
  {
   "cell_type": "code",
   "execution_count": 26,
   "id": "21ab8a8b-af9f-49e8-929f-37a32689a2f8",
   "metadata": {},
   "outputs": [
    {
     "data": {
      "text/plain": [
       "{'Name': 'Asif', 'ID': 12345, 'DOB': 1995, 'Address': 'Delhi'}"
      ]
     },
     "execution_count": 26,
     "metadata": {},
     "output_type": "execute_result"
    }
   ],
   "source": [
    "dict1 = {'DOB':1995}\n",
    "mydict1.update(dict1)\n",
    "mydict1\n"
   ]
  },
  {
   "cell_type": "code",
   "execution_count": 27,
   "id": "c83cc066-753a-4bd6-bccb-a7b6cf561fc9",
   "metadata": {},
   "outputs": [
    {
     "data": {
      "text/plain": [
       "{'Name': 'Asif',\n",
       " 'ID': 12345,\n",
       " 'DOB': 1995,\n",
       " 'Address': 'Delhi',\n",
       " 'Job': 'Analyst'}"
      ]
     },
     "execution_count": 27,
     "metadata": {},
     "output_type": "execute_result"
    }
   ],
   "source": [
    "mydict1['Job'] = 'Analyst' # Adding items in the dictionary\n",
    "mydict1"
   ]
  },
  {
   "cell_type": "code",
   "execution_count": 28,
   "id": "74eea8c6-cb4a-45cc-b383-c698a64f7dc3",
   "metadata": {},
   "outputs": [
    {
     "data": {
      "text/plain": [
       "{'Name': 'Asif', 'ID': 12345, 'DOB': 1995, 'Address': 'Delhi'}"
      ]
     },
     "execution_count": 28,
     "metadata": {},
     "output_type": "execute_result"
    }
   ],
   "source": [
    "mydict1.pop('Job') # Removing items in the dictionary using Pop method\n",
    "mydict1"
   ]
  },
  {
   "cell_type": "code",
   "execution_count": 29,
   "id": "40e2bc25-f608-47ea-bcb1-26a182c7663e",
   "metadata": {},
   "outputs": [
    {
     "data": {
      "text/plain": [
       "('Address', 'Delhi')"
      ]
     },
     "execution_count": 29,
     "metadata": {},
     "output_type": "execute_result"
    }
   ],
   "source": [
    "mydict1.popitem() # A random item is removed"
   ]
  },
  {
   "cell_type": "code",
   "execution_count": 30,
   "id": "b9b076f6-6763-4504-b7a2-4b3655258e04",
   "metadata": {},
   "outputs": [
    {
     "data": {
      "text/plain": [
       "{'Name': 'Asif', 'ID': 12345, 'DOB': 1995}"
      ]
     },
     "execution_count": 30,
     "metadata": {},
     "output_type": "execute_result"
    }
   ],
   "source": [
    "mydict1"
   ]
  },
  {
   "cell_type": "code",
   "execution_count": 31,
   "id": "c169b806-9200-4d3f-88a8-66a87b3f8b21",
   "metadata": {},
   "outputs": [
    {
     "data": {
      "text/plain": [
       "{'Name': 'Asif', 'DOB': 1995}"
      ]
     },
     "execution_count": 31,
     "metadata": {},
     "output_type": "execute_result"
    }
   ],
   "source": [
    "del[mydict1['ID']] # Removing item using del method\n",
    "mydict1"
   ]
  },
  {
   "cell_type": "code",
   "execution_count": 32,
   "id": "8f789356-d3ea-4d49-bf5c-b6fcf286617e",
   "metadata": {},
   "outputs": [
    {
     "data": {
      "text/plain": [
       "{}"
      ]
     },
     "execution_count": 32,
     "metadata": {},
     "output_type": "execute_result"
    }
   ],
   "source": [
    "mydict1.clear() # Delete all items of the dictionary using clear method\n",
    "mydict1\n"
   ]
  },
  {
   "cell_type": "code",
   "execution_count": 33,
   "id": "bdf5bb55-232c-446c-baf0-e5f4d12d183a",
   "metadata": {},
   "outputs": [
    {
     "ename": "NameError",
     "evalue": "name 'mydict1' is not defined",
     "output_type": "error",
     "traceback": [
      "\u001b[1;31m---------------------------------------------------------------------------\u001b[0m",
      "\u001b[1;31mNameError\u001b[0m                                 Traceback (most recent call last)",
      "Cell \u001b[1;32mIn[33], line 2\u001b[0m\n\u001b[0;32m      1\u001b[0m \u001b[38;5;28;01mdel\u001b[39;00m mydict1 \u001b[38;5;66;03m# Delete the dictionary object\u001b[39;00m\n\u001b[1;32m----> 2\u001b[0m mydict1\n",
      "\u001b[1;31mNameError\u001b[0m: name 'mydict1' is not defined"
     ]
    }
   ],
   "source": [
    "del mydict1 # Delete the dictionary object\n",
    "mydict1\n"
   ]
  },
  {
   "cell_type": "markdown",
   "id": "9a3c5d7c-ddd2-4ffb-967a-f04897a8a7af",
   "metadata": {},
   "source": [
    "Copy Dictionary"
   ]
  },
  {
   "cell_type": "code",
   "execution_count": 34,
   "id": "7463c265-7046-4985-bebe-22d9a8827c67",
   "metadata": {},
   "outputs": [
    {
     "data": {
      "text/plain": [
       "{'Name': 'Asif', 'ID': 12345, 'DOB': 1991, 'Address': 'Hilsinki'}"
      ]
     },
     "execution_count": 34,
     "metadata": {},
     "output_type": "execute_result"
    }
   ],
   "source": [
    "mydict = {'Name':'Asif' , 'ID': 12345 , 'DOB': 1991 , 'Address' : 'Hilsinki'}\n",
    "mydict\n"
   ]
  },
  {
   "cell_type": "code",
   "execution_count": 35,
   "id": "2edd838f-9851-4d09-951b-6809141bdfe5",
   "metadata": {},
   "outputs": [],
   "source": [
    "mydict1 = mydict # Create a new reference \"mydict1"
   ]
  },
  {
   "cell_type": "code",
   "execution_count": 36,
   "id": "0518a93e-c3f7-4181-94bf-696566513e8a",
   "metadata": {},
   "outputs": [
    {
     "data": {
      "text/plain": [
       "(2194745049472, 2194745049472)"
      ]
     },
     "execution_count": 36,
     "metadata": {},
     "output_type": "execute_result"
    }
   ],
   "source": [
    "id(mydict) , id(mydict1) # The address of both mydict & mydict1 will be the same"
   ]
  },
  {
   "cell_type": "code",
   "execution_count": 37,
   "id": "b4831838-0b98-44ab-8970-5790209e2ab3",
   "metadata": {},
   "outputs": [],
   "source": [
    "mydict2 = mydict.copy() # Create a copy of the dictionary"
   ]
  },
  {
   "cell_type": "code",
   "execution_count": 38,
   "id": "58ec85ab-9998-4d3f-9c5c-1f0ac06c7f41",
   "metadata": {},
   "outputs": [
    {
     "data": {
      "text/plain": [
       "2194745063488"
      ]
     },
     "execution_count": 38,
     "metadata": {},
     "output_type": "execute_result"
    }
   ],
   "source": [
    "id(mydict2) # The address of mydict2 will be different from mydict because mydic"
   ]
  },
  {
   "cell_type": "code",
   "execution_count": 39,
   "id": "2d245638-8424-456c-9050-45529a3428fe",
   "metadata": {},
   "outputs": [],
   "source": [
    "mydict['Address'] = 'Mumbai'\n"
   ]
  },
  {
   "cell_type": "code",
   "execution_count": 40,
   "id": "23a7999c-9a1f-4dde-8778-09f726490d69",
   "metadata": {},
   "outputs": [
    {
     "data": {
      "text/plain": [
       "{'Name': 'Asif', 'ID': 12345, 'DOB': 1991, 'Address': 'Mumbai'}"
      ]
     },
     "execution_count": 40,
     "metadata": {},
     "output_type": "execute_result"
    }
   ],
   "source": [
    "mydict"
   ]
  },
  {
   "cell_type": "code",
   "execution_count": 41,
   "id": "a97994cc-f03e-4160-b242-5e862905bcb3",
   "metadata": {},
   "outputs": [
    {
     "data": {
      "text/plain": [
       "{'Name': 'Asif', 'ID': 12345, 'DOB': 1991, 'Address': 'Mumbai'}"
      ]
     },
     "execution_count": 41,
     "metadata": {},
     "output_type": "execute_result"
    }
   ],
   "source": [
    "mydict1 # mydict1 will be also impacted as it is pointing to the same dictionary\n"
   ]
  },
  {
   "cell_type": "code",
   "execution_count": 42,
   "id": "312ec84c-e654-4f50-baa9-f00694c2d69f",
   "metadata": {},
   "outputs": [
    {
     "data": {
      "text/plain": [
       "{'Name': 'Asif', 'ID': 12345, 'DOB': 1991, 'Address': 'Hilsinki'}"
      ]
     },
     "execution_count": 42,
     "metadata": {},
     "output_type": "execute_result"
    }
   ],
   "source": [
    "mydict2 # Copy of list won't be impacted due to the changes made in the original\n"
   ]
  },
  {
   "cell_type": "markdown",
   "id": "6bcab3ba-dae6-4924-b972-2a9b8adcf39c",
   "metadata": {},
   "source": [
    "# Loop through a Dictionar"
   ]
  },
  {
   "cell_type": "code",
   "execution_count": 44,
   "id": "7071705d-3778-4bf0-a369-146b5efe4f2c",
   "metadata": {},
   "outputs": [
    {
     "data": {
      "text/plain": [
       "{'Name': 'Asif',\n",
       " 'ID': 12345,\n",
       " 'DOB': 1991,\n",
       " 'Address': 'Hilsinki',\n",
       " 'Job': 'Analyst'}"
      ]
     },
     "execution_count": 44,
     "metadata": {},
     "output_type": "execute_result"
    }
   ],
   "source": [
    "mydict1 = {'Name':'Asif' , 'ID': 12345 , 'DOB': 1991 , 'Address' : 'Hilsinki' ,'Job': 'Analyst'}\n",
    "mydict1"
   ]
  },
  {
   "cell_type": "code",
   "execution_count": 46,
   "id": "e2081d74-2c0c-48d8-a1b0-ae41c6beeadf",
   "metadata": {},
   "outputs": [
    {
     "name": "stdout",
     "output_type": "stream",
     "text": [
      "Name : Asif\n",
      "ID : 12345\n",
      "DOB : 1991\n",
      "Address : Hilsinki\n",
      "Job : Analyst\n"
     ]
    }
   ],
   "source": [
    "for i in mydict1:\n",
    "    print(i , ':' , mydict1[i]) # Key & value pair"
   ]
  },
  {
   "cell_type": "code",
   "execution_count": 47,
   "id": "f44ff45e-e324-4327-9f1b-1462c69805e9",
   "metadata": {},
   "outputs": [
    {
     "name": "stdout",
     "output_type": "stream",
     "text": [
      "Asif\n",
      "12345\n",
      "1991\n",
      "Hilsinki\n",
      "Analyst\n"
     ]
    }
   ],
   "source": [
    "for i in mydict1:\n",
    "    print(mydict1[i]) # Dictionary items"
   ]
  },
  {
   "cell_type": "markdown",
   "id": "edba3596-975a-454c-baf4-043ec8f7d160",
   "metadata": {},
   "source": [
    "Dictionary Membership"
   ]
  },
  {
   "cell_type": "code",
   "execution_count": 48,
   "id": "0df57c68-1960-40a1-9d88-7aa7f56a1ee4",
   "metadata": {},
   "outputs": [
    {
     "data": {
      "text/plain": [
       "False"
      ]
     },
     "execution_count": 48,
     "metadata": {},
     "output_type": "execute_result"
    }
   ],
   "source": [
    "'Asif' in mydict1 # Membership test can be only done for keys.\n"
   ]
  },
  {
   "cell_type": "code",
   "execution_count": 49,
   "id": "5b0dd634-6217-4f40-ab9c-af8a4b595aed",
   "metadata": {},
   "outputs": [
    {
     "data": {
      "text/plain": [
       "True"
      ]
     },
     "execution_count": 49,
     "metadata": {},
     "output_type": "execute_result"
    }
   ],
   "source": [
    "'ID' in mydict1 # Membership test can be only done for keys.\n"
   ]
  },
  {
   "cell_type": "markdown",
   "id": "201897f7-496b-41b2-8b0f-d283e63cf9e1",
   "metadata": {},
   "source": [
    "All / Any\n",
    "The all() method returns:\n",
    "True - If all all keys of the dictionary are true\n",
    "False - If any key of the dictionary is false\n",
    "The any() function returns True if any key of the dictionary is True. If not, any() returns False"
   ]
  },
  {
   "cell_type": "code",
   "execution_count": 50,
   "id": "817d11fb-b2d7-4da3-87b0-6802cc61bbc8",
   "metadata": {},
   "outputs": [
    {
     "data": {
      "text/plain": [
       "{'Name': 'Asif', 'ID': 12345, 'DOB': 1991, 'Job': 'Analyst'}"
      ]
     },
     "execution_count": 50,
     "metadata": {},
     "output_type": "execute_result"
    }
   ],
   "source": [
    "mydict1 = {'Name':'Asif' , 'ID': 12345 , 'DOB': 1991 , 'Job': 'Analyst'}\n",
    "mydict1"
   ]
  },
  {
   "cell_type": "code",
   "execution_count": 51,
   "id": "248c48f8-0548-4a1b-9ea9-1e8380a4cec9",
   "metadata": {},
   "outputs": [
    {
     "data": {
      "text/plain": [
       "True"
      ]
     },
     "execution_count": 51,
     "metadata": {},
     "output_type": "execute_result"
    }
   ],
   "source": [
    "all(mydict1) # Will Return false as one value is false (Value 0)"
   ]
  },
  {
   "cell_type": "code",
   "execution_count": null,
   "id": "468587eb-d7f8-4c01-9aca-9cfdeb32153d",
   "metadata": {},
   "outputs": [],
   "source": []
  }
 ],
 "metadata": {
  "kernelspec": {
   "display_name": "Python 3 (ipykernel)",
   "language": "python",
   "name": "python3"
  },
  "language_info": {
   "codemirror_mode": {
    "name": "ipython",
    "version": 3
   },
   "file_extension": ".py",
   "mimetype": "text/x-python",
   "name": "python",
   "nbconvert_exporter": "python",
   "pygments_lexer": "ipython3",
   "version": "3.12.7"
  }
 },
 "nbformat": 4,
 "nbformat_minor": 5
}
