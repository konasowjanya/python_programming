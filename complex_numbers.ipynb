{
 "cells": [
  {
   "cell_type": "markdown",
   "id": "229b62f6-5dfd-4fa5-a25c-eb1bb9695e6a",
   "metadata": {},
   "source": [
    "# COMPLEX NUMBERS"
   ]
  },
  {
   "cell_type": "code",
   "execution_count": 9,
   "id": "a3767054-8f27-4a7d-a111-c5592cda7da2",
   "metadata": {},
   "outputs": [],
   "source": [
    "z=3+4j"
   ]
  },
  {
   "cell_type": "code",
   "execution_count": 10,
   "id": "23184f75-280e-4fac-8a60-a3eae974d278",
   "metadata": {},
   "outputs": [
    {
     "name": "stdout",
     "output_type": "stream",
     "text": [
      "(3+4j)\n"
     ]
    }
   ],
   "source": [
    "print(z)"
   ]
  },
  {
   "cell_type": "code",
   "execution_count": 11,
   "id": "545d5dff-f10c-4402-982c-b6369a7069ea",
   "metadata": {},
   "outputs": [
    {
     "name": "stdout",
     "output_type": "stream",
     "text": [
      "3.0\n"
     ]
    }
   ],
   "source": [
    "print(z.real)"
   ]
  },
  {
   "cell_type": "code",
   "execution_count": 12,
   "id": "261f558a-5bdf-4d72-ab7e-0ad3df1000f6",
   "metadata": {},
   "outputs": [
    {
     "name": "stdout",
     "output_type": "stream",
     "text": [
      "4.0\n"
     ]
    }
   ],
   "source": [
    "print(z.imag)"
   ]
  },
  {
   "cell_type": "code",
   "execution_count": 13,
   "id": "e3a85e7e-c2cd-45ab-afa4-f59df7c424d6",
   "metadata": {},
   "outputs": [],
   "source": [
    "a = 4+5j\n",
    "b=3+4j"
   ]
  },
  {
   "cell_type": "code",
   "execution_count": 14,
   "id": "e3ee25f2-431d-4ae1-b7cf-2c5c5b80a0a5",
   "metadata": {},
   "outputs": [
    {
     "name": "stdout",
     "output_type": "stream",
     "text": [
      "(7+9j)\n",
      "(1+1j)\n",
      "(-8+31j)\n",
      "(1.28-0.04j)\n"
     ]
    }
   ],
   "source": [
    "print(a+b)\n",
    "print(a-b)\n",
    "print(a*b)\n",
    "print(a/b)"
   ]
  },
  {
   "cell_type": "markdown",
   "id": "e393147a-425c-48be-a9ec-75df52a91511",
   "metadata": {},
   "source": [
    "# Using Built-in Functions\n",
    "Python provides several functions to work with complex numbers, such as:\n",
    "\\n conj(z): Returns the complex conjugate of the number.\n"
   ]
  },
  {
   "cell_type": "code",
   "execution_count": 17,
   "id": "3f180c20-fd03-4178-900c-31e339f6466f",
   "metadata": {},
   "outputs": [
    {
     "name": "stdout",
     "output_type": "stream",
     "text": [
      "6.4031242374328485\n",
      "5.0\n"
     ]
    }
   ],
   "source": [
    "# abs(z): Returns the magnitude (absolute value) of the complex number.\n",
    "print(abs(a))\n",
    "print(abs(b))\n"
   ]
  },
  {
   "cell_type": "code",
   "execution_count": 20,
   "id": "dd1413f0-0a32-4707-88b2-40a15a93e340",
   "metadata": {},
   "outputs": [
    {
     "ename": "NameError",
     "evalue": "name 'conj' is not defined",
     "output_type": "error",
     "traceback": [
      "\u001b[1;31m---------------------------------------------------------------------------\u001b[0m",
      "\u001b[1;31mNameError\u001b[0m                                 Traceback (most recent call last)",
      "Cell \u001b[1;32mIn[20], line 1\u001b[0m\n\u001b[1;32m----> 1\u001b[0m \u001b[38;5;28mprint\u001b[39m(conj(a))\n",
      "\u001b[1;31mNameError\u001b[0m: name 'conj' is not defined"
     ]
    }
   ],
   "source": [
    "print(conj(a))"
   ]
  }
 ],
 "metadata": {
  "kernelspec": {
   "display_name": "Python 3 (ipykernel)",
   "language": "python",
   "name": "python3"
  },
  "language_info": {
   "codemirror_mode": {
    "name": "ipython",
    "version": 3
   },
   "file_extension": ".py",
   "mimetype": "text/x-python",
   "name": "python",
   "nbconvert_exporter": "python",
   "pygments_lexer": "ipython3",
   "version": "3.12.7"
  }
 },
 "nbformat": 4,
 "nbformat_minor": 5
}
