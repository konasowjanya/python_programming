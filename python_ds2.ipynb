{
 "cells": [
  {
   "cell_type": "markdown",
   "id": "ac52127d-46fe-453e-b008-f92f1ab15816",
   "metadata": {},
   "source": [
    "List methods are as below\n",
    "- append - done (add an element to list at the end)\n",
    "- copy - done (copy a list from one to another list)\n",
    "- count - done (count how many times value is in the list)\n",
    "- remove - done( remove a specified value in the list)\n",
    "- clear - done ( removed all the values in the list)\n",
    "- extend - (it will extend first list with all elements in the 2nd list)\n",
    "- index - this function is used to find the index of a number present in the list\n",
    "- insert - it will insert an element at the index mentioned as first parameter\n",
    "- pop  - Removes the last element from the list\n",
    "- reverse - it will reverse the elements in the list\n",
    "- sort - it will sort the elemetns in ascending order small to big\n",
    "-  del - it will delete entire list\n",
    "-  All / Any\n",
    "    The all() method returns:\n",
    "    True - If all elements in a list are true\n",
    "    False - If any element in a list is false\n",
    "    The any() function returns True if any element in the list is True. If not, any() returns False."
   ]
  },
  {
   "cell_type": "code",
   "execution_count": 1,
   "id": "db283c4c-5efe-424c-8677-b1a117d863de",
   "metadata": {},
   "outputs": [],
   "source": [
    "l1 = [1,3,4,6,7,13,True,\"Sowji\"]\n",
    "l2 = [45,34,23,12,1+5j]"
   ]
  },
  {
   "cell_type": "code",
   "execution_count": 2,
   "id": "db6eefb8-7a9f-437c-9b93-5808b8e7458f",
   "metadata": {},
   "outputs": [],
   "source": [
    "l1.extend(l2)"
   ]
  },
  {
   "cell_type": "code",
   "execution_count": 3,
   "id": "6e3faed2-4e0a-43ff-b993-1ec01f545341",
   "metadata": {},
   "outputs": [
    {
     "data": {
      "text/plain": [
       "[1, 3, 4, 6, 7, 13, True, 'Sowji', 45, 34, 23, 12, (1+5j)]"
      ]
     },
     "execution_count": 3,
     "metadata": {},
     "output_type": "execute_result"
    }
   ],
   "source": [
    "l1"
   ]
  },
  {
   "cell_type": "code",
   "execution_count": 4,
   "id": "39b9bba3-998b-4356-a765-5624cd0f084d",
   "metadata": {},
   "outputs": [
    {
     "data": {
      "text/plain": [
       "[45, 34, 23, 12, (1+5j)]"
      ]
     },
     "execution_count": 4,
     "metadata": {},
     "output_type": "execute_result"
    }
   ],
   "source": [
    "l2"
   ]
  },
  {
   "cell_type": "code",
   "execution_count": 5,
   "id": "264d0109-83ca-453a-814d-7d07914a2586",
   "metadata": {},
   "outputs": [
    {
     "data": {
      "text/plain": [
       "[45, 34, 23, 12, (1+5j), [1, 2, 3, 'hi']]"
      ]
     },
     "execution_count": 5,
     "metadata": {},
     "output_type": "execute_result"
    }
   ],
   "source": [
    "l2.append([1,2,3,'hi']) #nested list \n",
    "l2\n"
   ]
  },
  {
   "cell_type": "code",
   "execution_count": 6,
   "id": "0019d215-b9a0-46eb-806e-0419ff5eb0de",
   "metadata": {},
   "outputs": [],
   "source": [
    "l2.remove(1+5j) #remove the element "
   ]
  },
  {
   "cell_type": "code",
   "execution_count": 7,
   "id": "b818bf70-123f-471d-b28e-c0f7f4bbb274",
   "metadata": {},
   "outputs": [
    {
     "data": {
      "text/plain": [
       "[45, 34, 23, 12, [1, 2, 3, 'hi']]"
      ]
     },
     "execution_count": 7,
     "metadata": {},
     "output_type": "execute_result"
    }
   ],
   "source": [
    "l2"
   ]
  },
  {
   "cell_type": "code",
   "execution_count": 8,
   "id": "aaab76d2-f50b-45db-acf1-1e6d382082c8",
   "metadata": {},
   "outputs": [
    {
     "data": {
      "text/plain": [
       "[1, 2, 3, 'hi']"
      ]
     },
     "execution_count": 8,
     "metadata": {},
     "output_type": "execute_result"
    }
   ],
   "source": [
    "l2.pop() # removes the last element from the list"
   ]
  },
  {
   "cell_type": "code",
   "execution_count": 9,
   "id": "7db33002-cd9f-4200-89ca-7c06e40692b9",
   "metadata": {},
   "outputs": [
    {
     "data": {
      "text/plain": [
       "[45, 34, 23, 12]"
      ]
     },
     "execution_count": 9,
     "metadata": {},
     "output_type": "execute_result"
    }
   ],
   "source": [
    "l2"
   ]
  },
  {
   "cell_type": "code",
   "execution_count": 10,
   "id": "d7b6f2bb-ce83-4efc-a9a9-4233f11f181a",
   "metadata": {},
   "outputs": [
    {
     "data": {
      "text/plain": [
       "12"
      ]
     },
     "execution_count": 10,
     "metadata": {},
     "output_type": "execute_result"
    }
   ],
   "source": [
    "l2.pop(3) # removes element at index 3 from l2"
   ]
  },
  {
   "cell_type": "code",
   "execution_count": 11,
   "id": "cc30e401-5089-4784-be7e-aa19f209d32d",
   "metadata": {},
   "outputs": [
    {
     "data": {
      "text/plain": [
       "[45, 34, 23]"
      ]
     },
     "execution_count": 11,
     "metadata": {},
     "output_type": "execute_result"
    }
   ],
   "source": [
    "l2"
   ]
  },
  {
   "cell_type": "code",
   "execution_count": 12,
   "id": "c8fd467d-f471-45a9-b353-aa4f4f43bbe4",
   "metadata": {},
   "outputs": [],
   "source": [
    "l2.insert(3,35)"
   ]
  },
  {
   "cell_type": "code",
   "execution_count": 13,
   "id": "e5a3b632-ec4b-4ea5-ada7-8953961f45ff",
   "metadata": {},
   "outputs": [
    {
     "data": {
      "text/plain": [
       "[45, 34, 23, 35]"
      ]
     },
     "execution_count": 13,
     "metadata": {},
     "output_type": "execute_result"
    }
   ],
   "source": [
    "l2"
   ]
  },
  {
   "cell_type": "code",
   "execution_count": 14,
   "id": "1571862b-c078-407a-8a6e-419772380a5c",
   "metadata": {},
   "outputs": [],
   "source": [
    "l2.sort()"
   ]
  },
  {
   "cell_type": "code",
   "execution_count": 15,
   "id": "e9d2ab59-c142-4b99-90e2-8406598257f6",
   "metadata": {},
   "outputs": [
    {
     "data": {
      "text/plain": [
       "[23, 34, 35, 45]"
      ]
     },
     "execution_count": 15,
     "metadata": {},
     "output_type": "execute_result"
    }
   ],
   "source": [
    "l2"
   ]
  },
  {
   "cell_type": "code",
   "execution_count": 16,
   "id": "3be658ce-754d-4483-ba4c-fe78b7612dbc",
   "metadata": {},
   "outputs": [
    {
     "data": {
      "text/plain": [
       "[45, 35, 34, 23]"
      ]
     },
     "execution_count": 16,
     "metadata": {},
     "output_type": "execute_result"
    }
   ],
   "source": [
    "l2.sort(reverse = True)\n",
    "l2"
   ]
  },
  {
   "cell_type": "code",
   "execution_count": 18,
   "id": "6440c5f1-d44d-41c7-ba63-2cb76aa5107a",
   "metadata": {},
   "outputs": [],
   "source": [
    "l2.reverse()"
   ]
  },
  {
   "cell_type": "code",
   "execution_count": 19,
   "id": "dc6b220c-2618-4d37-8102-349d852d6c2b",
   "metadata": {},
   "outputs": [
    {
     "data": {
      "text/plain": [
       "[23, 34, 35, 45]"
      ]
     },
     "execution_count": 19,
     "metadata": {},
     "output_type": "execute_result"
    }
   ],
   "source": [
    "l2"
   ]
  },
  {
   "cell_type": "code",
   "execution_count": 20,
   "id": "eedfdca0-dc2c-49e2-9b00-57f2f6b453eb",
   "metadata": {},
   "outputs": [
    {
     "data": {
      "text/plain": [
       "2"
      ]
     },
     "execution_count": 20,
     "metadata": {},
     "output_type": "execute_result"
    }
   ],
   "source": [
    "l2.index(35)"
   ]
  },
  {
   "cell_type": "code",
   "execution_count": 21,
   "id": "ec01bbf6-bfe4-4836-9ed2-25436c6682a8",
   "metadata": {},
   "outputs": [
    {
     "ename": "ValueError",
     "evalue": "40 is not in list",
     "output_type": "error",
     "traceback": [
      "\u001b[1;31m---------------------------------------------------------------------------\u001b[0m",
      "\u001b[1;31mValueError\u001b[0m                                Traceback (most recent call last)",
      "Cell \u001b[1;32mIn[21], line 1\u001b[0m\n\u001b[1;32m----> 1\u001b[0m l2\u001b[38;5;241m.\u001b[39mindex(\u001b[38;5;241m40\u001b[39m)\n",
      "\u001b[1;31mValueError\u001b[0m: 40 is not in list"
     ]
    }
   ],
   "source": [
    "l2.index(40)"
   ]
  },
  {
   "cell_type": "code",
   "execution_count": 22,
   "id": "7149505b-4b7e-401d-8891-6577e9766c10",
   "metadata": {},
   "outputs": [
    {
     "data": {
      "text/plain": [
       "[]"
      ]
     },
     "execution_count": 22,
     "metadata": {},
     "output_type": "execute_result"
    }
   ],
   "source": [
    "l2.clear() # Empty List / Delete all items in the list\n",
    "l2"
   ]
  },
  {
   "cell_type": "code",
   "execution_count": 26,
   "id": "d38998f7-1a00-401a-bbf8-b0a6cc166149",
   "metadata": {},
   "outputs": [
    {
     "data": {
      "text/plain": [
       "[1, 3, 4, 6, 7, 13, True, 'Sowji', 45, 34, 23, 12, (1+5j)]"
      ]
     },
     "execution_count": 26,
     "metadata": {},
     "output_type": "execute_result"
    }
   ],
   "source": [
    "l1"
   ]
  },
  {
   "cell_type": "code",
   "execution_count": 27,
   "id": "245d86f6-c8b2-4838-a401-d7759fddebf7",
   "metadata": {},
   "outputs": [
    {
     "data": {
      "text/plain": [
       "True"
      ]
     },
     "execution_count": 27,
     "metadata": {},
     "output_type": "execute_result"
    }
   ],
   "source": [
    "all(l2)"
   ]
  },
  {
   "cell_type": "code",
   "execution_count": 28,
   "id": "0d45b9fa-800a-410f-a4b0-749cb30e0363",
   "metadata": {},
   "outputs": [
    {
     "data": {
      "text/plain": [
       "False"
      ]
     },
     "execution_count": 28,
     "metadata": {},
     "output_type": "execute_result"
    }
   ],
   "source": [
    "any(l2)"
   ]
  },
  {
   "cell_type": "code",
   "execution_count": 29,
   "id": "864523cb-99d3-4214-95db-7c11467d3fca",
   "metadata": {},
   "outputs": [],
   "source": [
    "l1.remove(1+5j)"
   ]
  },
  {
   "cell_type": "code",
   "execution_count": 30,
   "id": "2935c242-dd76-4df4-8a2b-0e8afafea4e5",
   "metadata": {},
   "outputs": [
    {
     "data": {
      "text/plain": [
       "False"
      ]
     },
     "execution_count": 30,
     "metadata": {},
     "output_type": "execute_result"
    }
   ],
   "source": [
    "any(l2)"
   ]
  },
  {
   "cell_type": "code",
   "execution_count": null,
   "id": "1e7a8300-aef5-462e-bb40-caa16cf8a1b8",
   "metadata": {},
   "outputs": [],
   "source": []
  }
 ],
 "metadata": {
  "kernelspec": {
   "display_name": "Python 3 (ipykernel)",
   "language": "python",
   "name": "python3"
  },
  "language_info": {
   "codemirror_mode": {
    "name": "ipython",
    "version": 3
   },
   "file_extension": ".py",
   "mimetype": "text/x-python",
   "name": "python",
   "nbconvert_exporter": "python",
   "pygments_lexer": "ipython3",
   "version": "3.12.7"
  }
 },
 "nbformat": 4,
 "nbformat_minor": 5
}
