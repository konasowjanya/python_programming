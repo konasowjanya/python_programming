{
 "cells": [
  {
   "cell_type": "markdown",
   "id": "52424cc3-16c6-44ad-9463-bac963144b57",
   "metadata": {},
   "source": [
    "# Tuple"
   ]
  },
  {
   "cell_type": "code",
   "execution_count": 1,
   "id": "699ee662-3eb1-4809-8399-5162e700fdc9",
   "metadata": {},
   "outputs": [],
   "source": [
    "# Tuple Creation\n",
    "tup = ()"
   ]
  },
  {
   "cell_type": "code",
   "execution_count": 2,
   "id": "75531554-8f4b-4de2-ba5e-c3c157d2dc41",
   "metadata": {},
   "outputs": [
    {
     "name": "stdout",
     "output_type": "stream",
     "text": [
      "<class 'tuple'>\n"
     ]
    }
   ],
   "source": [
    "print(type(tup))"
   ]
  },
  {
   "cell_type": "code",
   "execution_count": 3,
   "id": "6ac13bef-e79b-40f7-92bd-0ba9ad19b270",
   "metadata": {},
   "outputs": [
    {
     "name": "stdout",
     "output_type": "stream",
     "text": [
      "(1, 2, 3, 4, 5)\n"
     ]
    }
   ],
   "source": [
    "int_tuple = (1,2,3,4,5)\n",
    "print(int_tuple)"
   ]
  },
  {
   "cell_type": "code",
   "execution_count": 4,
   "id": "d040e875-3ebc-42a7-b36e-baf7eb7f14c7",
   "metadata": {},
   "outputs": [
    {
     "name": "stdout",
     "output_type": "stream",
     "text": [
      "(1.3, 2.3, 4.5)\n"
     ]
    }
   ],
   "source": [
    "float_tuple = (1.3,2.3,4.5)\n",
    "print(float_tuple)"
   ]
  },
  {
   "cell_type": "code",
   "execution_count": 5,
   "id": "ef9f1ce9-6e23-4bd4-8343-59a792887220",
   "metadata": {},
   "outputs": [],
   "source": [
    "nes_tuple = (1,2,('a','b'),4)"
   ]
  },
  {
   "cell_type": "code",
   "execution_count": 6,
   "id": "0d59a160-b4fb-4743-a458-798a900c0e09",
   "metadata": {},
   "outputs": [
    {
     "name": "stdout",
     "output_type": "stream",
     "text": [
      "<class 'tuple'>\n"
     ]
    }
   ],
   "source": [
    "print(type(nes_tuple))"
   ]
  },
  {
   "cell_type": "code",
   "execution_count": 7,
   "id": "79b29509-6de7-4bd7-b356-385ff81f61d8",
   "metadata": {},
   "outputs": [
    {
     "data": {
      "text/plain": [
       "4"
      ]
     },
     "execution_count": 7,
     "metadata": {},
     "output_type": "execute_result"
    }
   ],
   "source": [
    "len(nes_tuple)"
   ]
  },
  {
   "cell_type": "markdown",
   "id": "80f32634-dea8-48ea-a125-d87ebb734108",
   "metadata": {},
   "source": [
    "# Tuple Indexing"
   ]
  },
  {
   "cell_type": "code",
   "execution_count": 14,
   "id": "41bc5f9d-923b-462a-a38c-30154ed9f9ba",
   "metadata": {},
   "outputs": [
    {
     "name": "stdout",
     "output_type": "stream",
     "text": [
      "(1, 2, 3, 4, 5)\n"
     ]
    }
   ],
   "source": [
    "print(int_tuple)"
   ]
  },
  {
   "cell_type": "code",
   "execution_count": 13,
   "id": "0e222544-a0a3-4b51-a6a0-5d1357996e20",
   "metadata": {},
   "outputs": [
    {
     "name": "stdout",
     "output_type": "stream",
     "text": [
      "1\n"
     ]
    }
   ],
   "source": [
    "print(int_tuple[0]) # it will print the first element of tuple"
   ]
  },
  {
   "cell_type": "code",
   "execution_count": 15,
   "id": "9e68f2d8-606a-44e9-881e-cebc83b28ee5",
   "metadata": {},
   "outputs": [
    {
     "name": "stdout",
     "output_type": "stream",
     "text": [
      "(1, 2, ('a', 'b'), 4)\n"
     ]
    }
   ],
   "source": [
    "print(nes_tuple)"
   ]
  },
  {
   "cell_type": "code",
   "execution_count": 18,
   "id": "14789192-0e50-474d-9034-e840c8a9f93e",
   "metadata": {},
   "outputs": [
    {
     "name": "stdout",
     "output_type": "stream",
     "text": [
      "b\n"
     ]
    }
   ],
   "source": [
    "print(nes_tuple[2][1]) # it will print the elements inside nested tuple called nested indexing"
   ]
  },
  {
   "cell_type": "code",
   "execution_count": 20,
   "id": "96f3e1bf-562b-4025-941a-c95eb893fdfa",
   "metadata": {},
   "outputs": [
    {
     "name": "stdout",
     "output_type": "stream",
     "text": [
      "4\n"
     ]
    }
   ],
   "source": [
    "print(nes_tuple[-1]) # it will print last element of tuple"
   ]
  },
  {
   "cell_type": "markdown",
   "id": "a03490e0-2d08-4802-9caa-ab953e49800a",
   "metadata": {},
   "source": [
    "# Tuple Slicing"
   ]
  },
  {
   "cell_type": "code",
   "execution_count": 21,
   "id": "f06f976f-62b7-4046-9871-74371aace142",
   "metadata": {},
   "outputs": [],
   "source": [
    "tup1= (1,2,3,4,5,6,7,8,9,10)"
   ]
  },
  {
   "cell_type": "code",
   "execution_count": 23,
   "id": "193e53db-af02-4581-8e80-4890793da2f0",
   "metadata": {},
   "outputs": [
    {
     "name": "stdout",
     "output_type": "stream",
     "text": [
      "(1, 2, 3, 4, 5, 6, 7, 8, 9, 10)\n"
     ]
    }
   ],
   "source": [
    "print(tup1[::])"
   ]
  },
  {
   "cell_type": "code",
   "execution_count": 24,
   "id": "e2fbd7df-30e1-4eda-91ce-8738e61a920a",
   "metadata": {},
   "outputs": [
    {
     "name": "stdout",
     "output_type": "stream",
     "text": [
      "(1, 2, 3)\n"
     ]
    }
   ],
   "source": [
    "print(tup1[0:3])"
   ]
  },
  {
   "cell_type": "code",
   "execution_count": 29,
   "id": "e6b7f239-b80d-4fdf-9363-46743cb8cff3",
   "metadata": {},
   "outputs": [
    {
     "name": "stdout",
     "output_type": "stream",
     "text": [
      "(10, 9, 8, 7, 6, 5, 4, 3, 2, 1)\n"
     ]
    }
   ],
   "source": [
    "print(tup1[::-1])"
   ]
  },
  {
   "cell_type": "code",
   "execution_count": 30,
   "id": "84f1c499-b05f-4760-aac7-a0d662311a94",
   "metadata": {},
   "outputs": [
    {
     "name": "stdout",
     "output_type": "stream",
     "text": [
      "(1, 2)\n"
     ]
    }
   ],
   "source": [
    "print(tup1[:2]) #it will print first 2 elements in the tuple"
   ]
  },
  {
   "cell_type": "code",
   "execution_count": 32,
   "id": "7a5c15f1-7961-4fd7-950f-63b511931d32",
   "metadata": {},
   "outputs": [
    {
     "name": "stdout",
     "output_type": "stream",
     "text": [
      "(10,)\n"
     ]
    }
   ],
   "source": [
    "print(tup1[-1:]) #it will print last element in the tuple"
   ]
  },
  {
   "cell_type": "code",
   "execution_count": 33,
   "id": "4d3aff21-ae35-44a7-b6ad-33551f4ebc7d",
   "metadata": {},
   "outputs": [
    {
     "name": "stdout",
     "output_type": "stream",
     "text": [
      "(9, 10)\n"
     ]
    }
   ],
   "source": [
    "print(tup1[-2:]) #it will print last 2 element in the tuple"
   ]
  },
  {
   "cell_type": "code",
   "execution_count": 35,
   "id": "891e44b8-07b1-446e-8475-07b45b4ac9fa",
   "metadata": {},
   "outputs": [
    {
     "ename": "TypeError",
     "evalue": "'tuple' object does not support item assignment",
     "output_type": "error",
     "traceback": [
      "\u001b[1;31m---------------------------------------------------------------------------\u001b[0m",
      "\u001b[1;31mTypeError\u001b[0m                                 Traceback (most recent call last)",
      "Cell \u001b[1;32mIn[35], line 1\u001b[0m\n\u001b[1;32m----> 1\u001b[0m tup1[\u001b[38;5;241m2\u001b[39m] \u001b[38;5;241m=\u001b[39m \u001b[38;5;241m34\u001b[39m\n",
      "\u001b[1;31mTypeError\u001b[0m: 'tuple' object does not support item assignment"
     ]
    }
   ],
   "source": [
    "tup1[2] = 34 # tuples are immutable so we cant change values inside the tuple"
   ]
  },
  {
   "cell_type": "code",
   "execution_count": 37,
   "id": "d3494c59-2596-4139-acb0-1d51791cd87a",
   "metadata": {},
   "outputs": [
    {
     "ename": "TypeError",
     "evalue": "'tuple' object doesn't support item deletion",
     "output_type": "error",
     "traceback": [
      "\u001b[1;31m---------------------------------------------------------------------------\u001b[0m",
      "\u001b[1;31mTypeError\u001b[0m                                 Traceback (most recent call last)",
      "Cell \u001b[1;32mIn[37], line 1\u001b[0m\n\u001b[1;32m----> 1\u001b[0m \u001b[38;5;28;01mdel\u001b[39;00m tup1[\u001b[38;5;241m0\u001b[39m]\n",
      "\u001b[1;31mTypeError\u001b[0m: 'tuple' object doesn't support item deletion"
     ]
    }
   ],
   "source": [
    "del tup1[0] # immutable so cant delete items inside a tuple"
   ]
  },
  {
   "cell_type": "code",
   "execution_count": 38,
   "id": "9386279b-071b-43c0-9f3a-38a60740c8ce",
   "metadata": {},
   "outputs": [],
   "source": [
    "del tup1 # deleting eniter tuple is possible"
   ]
  },
  {
   "cell_type": "code",
   "execution_count": 39,
   "id": "c30f8174-e100-4254-bb0b-4506b7b83c0f",
   "metadata": {},
   "outputs": [
    {
     "ename": "NameError",
     "evalue": "name 'tup1' is not defined",
     "output_type": "error",
     "traceback": [
      "\u001b[1;31m---------------------------------------------------------------------------\u001b[0m",
      "\u001b[1;31mNameError\u001b[0m                                 Traceback (most recent call last)",
      "Cell \u001b[1;32mIn[39], line 1\u001b[0m\n\u001b[1;32m----> 1\u001b[0m \u001b[38;5;28mprint\u001b[39m(tup1)\n",
      "\u001b[1;31mNameError\u001b[0m: name 'tup1' is not defined"
     ]
    }
   ],
   "source": [
    "print(tup1)"
   ]
  },
  {
   "cell_type": "code",
   "execution_count": 40,
   "id": "ee7fa850-6fbf-49c5-8dae-aef61174ed09",
   "metadata": {},
   "outputs": [
    {
     "data": {
      "text/plain": [
       "(1, 2, 3, 4, 5)"
      ]
     },
     "execution_count": 40,
     "metadata": {},
     "output_type": "execute_result"
    }
   ],
   "source": [
    "int_tuple"
   ]
  },
  {
   "cell_type": "code",
   "execution_count": 43,
   "id": "4c1ec8e8-9a3a-4043-949b-7dfad339ddc0",
   "metadata": {},
   "outputs": [],
   "source": [
    "int_tuple2 = int_tuple*3 # we can multiply entire tuple and assigne it to another tuple or variable"
   ]
  },
  {
   "cell_type": "code",
   "execution_count": 42,
   "id": "8fc11e8b-65b5-45e7-aeac-51cfa0467058",
   "metadata": {},
   "outputs": [
    {
     "data": {
      "text/plain": [
       "(1, 2, 3, 4, 5, 1, 2, 3, 4, 5, 1, 2, 3, 4, 5)"
      ]
     },
     "execution_count": 42,
     "metadata": {},
     "output_type": "execute_result"
    }
   ],
   "source": [
    "int_tuple2"
   ]
  },
  {
   "cell_type": "code",
   "execution_count": 46,
   "id": "3b03facf-0d6e-4340-b743-4ebadfbe05fd",
   "metadata": {},
   "outputs": [
    {
     "data": {
      "text/plain": [
       "3"
      ]
     },
     "execution_count": 46,
     "metadata": {},
     "output_type": "execute_result"
    }
   ],
   "source": [
    "int_tuple2.count(4) # count the number of instances of the 4 in int_tuple2"
   ]
  },
  {
   "cell_type": "code",
   "execution_count": 51,
   "id": "f6a45b4a-dafe-41e8-9a42-399fc013f747",
   "metadata": {},
   "outputs": [
    {
     "name": "stdout",
     "output_type": "stream",
     "text": [
      "[1, 1, 1, 2, 2, 2, 3, 3, 3, 4, 4, 4, 5, 5, 5]\n"
     ]
    }
   ],
   "source": [
    "print(sorted(int_tuple2)) # it will jsut print the tuple in sorted order but will not change the exisiting tuple"
   ]
  },
  {
   "cell_type": "code",
   "execution_count": 50,
   "id": "1ed94586-0783-4209-be00-01f3550fbf01",
   "metadata": {},
   "outputs": [
    {
     "name": "stdout",
     "output_type": "stream",
     "text": [
      "(1, 2, 3, 4, 5, 1, 2, 3, 4, 5, 1, 2, 3, 4, 5)\n"
     ]
    }
   ],
   "source": [
    "print(int_tuple2)"
   ]
  },
  {
   "cell_type": "code",
   "execution_count": null,
   "id": "bf8b0dfd-8b33-4680-8e8f-f9af701bcea7",
   "metadata": {},
   "outputs": [],
   "source": []
  }
 ],
 "metadata": {
  "kernelspec": {
   "display_name": "Python 3 (ipykernel)",
   "language": "python",
   "name": "python3"
  },
  "language_info": {
   "codemirror_mode": {
    "name": "ipython",
    "version": 3
   },
   "file_extension": ".py",
   "mimetype": "text/x-python",
   "name": "python",
   "nbconvert_exporter": "python",
   "pygments_lexer": "ipython3",
   "version": "3.12.7"
  }
 },
 "nbformat": 4,
 "nbformat_minor": 5
}
